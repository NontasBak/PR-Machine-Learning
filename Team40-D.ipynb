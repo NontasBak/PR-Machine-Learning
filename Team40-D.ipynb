{
 "cells": [
  {
   "cell_type": "code",
   "execution_count": null,
   "metadata": {},
   "outputs": [
    {
     "name": "stdout",
     "output_type": "stream",
     "text": [
      "Requirement already satisfied: pandas in c:\\users\\nontas\\documents\\nontas\\pr-ml\\.venv\\lib\\site-packages (2.2.3)\n",
      "Requirement already satisfied: numpy in c:\\users\\nontas\\documents\\nontas\\pr-ml\\.venv\\lib\\site-packages (2.2.1)\n",
      "Requirement already satisfied: scikit-learn in c:\\users\\nontas\\documents\\nontas\\pr-ml\\.venv\\lib\\site-packages (1.6.0)\n",
      "Requirement already satisfied: python-dateutil>=2.8.2 in c:\\users\\nontas\\documents\\nontas\\pr-ml\\.venv\\lib\\site-packages (from pandas) (2.9.0.post0)\n",
      "Requirement already satisfied: pytz>=2020.1 in c:\\users\\nontas\\documents\\nontas\\pr-ml\\.venv\\lib\\site-packages (from pandas) (2024.2)\n",
      "Requirement already satisfied: tzdata>=2022.7 in c:\\users\\nontas\\documents\\nontas\\pr-ml\\.venv\\lib\\site-packages (from pandas) (2024.2)\n",
      "Requirement already satisfied: scipy>=1.6.0 in c:\\users\\nontas\\documents\\nontas\\pr-ml\\.venv\\lib\\site-packages (from scikit-learn) (1.14.1)\n",
      "Requirement already satisfied: joblib>=1.2.0 in c:\\users\\nontas\\documents\\nontas\\pr-ml\\.venv\\lib\\site-packages (from scikit-learn) (1.4.2)\n",
      "Requirement already satisfied: threadpoolctl>=3.1.0 in c:\\users\\nontas\\documents\\nontas\\pr-ml\\.venv\\lib\\site-packages (from scikit-learn) (3.5.0)\n",
      "Requirement already satisfied: six>=1.5 in c:\\users\\nontas\\documents\\nontas\\pr-ml\\.venv\\lib\\site-packages (from python-dateutil>=2.8.2->pandas) (1.17.0)\n",
      "Note: you may need to restart the kernel to use updated packages.\n",
      "Naive Bayes: 0.704564491249004\n",
      "k-NN: 0.8100184741068123\n",
      "Perceptron: 0.7020479175416354\n",
      "Logistic Regression: 0.7701007964014742\n",
      "SVM Linear kernel: 0.765984419995473\n",
      "SVM rbf kernel: 0.8459337339545447\n",
      "SVM poly kernel: 0.8334670481857562\n",
      "SVM sigmoid kernel: 0.783140480405279\n",
      "Neural Networks: 0.8251170659140954\n",
      "Bootstrap & Feature Bagging: 0.8117339362276972\n",
      "AdaBoost: 0.6552666904789006\n",
      "Decision Tree: 0.6142058947054413\n",
      "Random Forests: 0.8097904915917956\n",
      "Logistic Regression (after PCA): 0.7795947471781849\n"
     ]
    }
   ],
   "source": [
    "%pip install pandas numpy scikit-learn\n",
    "\n",
    "import pandas as pd\n",
    "import numpy as np\n",
    "from sklearn.model_selection import cross_val_score\n",
    "from sklearn.preprocessing import StandardScaler\n",
    "from sklearn.naive_bayes import GaussianNB\n",
    "from sklearn.neighbors import KNeighborsClassifier\n",
    "from sklearn.linear_model import Perceptron, LogisticRegression\n",
    "from sklearn.svm import SVC\n",
    "from sklearn.neural_network import MLPClassifier\n",
    "from sklearn.ensemble import RandomForestClassifier, AdaBoostClassifier\n",
    "from sklearn.tree import DecisionTreeClassifier\n",
    "from sklearn.decomposition import PCA\n",
    "from sklearn.model_selection import KFold\n",
    "\n",
    "train_data = pd.read_csv('datasetTV.csv', header=None)\n",
    "test_data = pd.read_csv('datasetTest.csv', header=None)\n",
    "\n",
    "X = train_data.iloc[:, :-1].values\n",
    "y = train_data.iloc[:, -1].values\n",
    "X_test = test_data.values\n",
    "\n",
    "scaler = StandardScaler()\n",
    "X = scaler.fit_transform(X)\n",
    "X_test = scaler.transform(X_test)\n",
    "\n",
    "models = {\n",
    "    'Naive Bayes': GaussianNB(),\n",
    "    'k-NN': KNeighborsClassifier(n_neighbors=5),\n",
    "    'Perceptron': Perceptron(max_iter=1000, random_state=42),\n",
    "    'Logistic Regression': LogisticRegression(max_iter=1000, random_state=42),\n",
    "    'SVM Linear kernel': SVC(kernel='linear', C=1.0, random_state=42),\n",
    "    'SVM rbf kernel': SVC(kernel='rbf', C=1.0, random_state=42),\n",
    "    'SVM poly kernel': SVC(kernel='poly', C=1.0, random_state=42),\n",
    "    'SVM sigmoid kernel': SVC(kernel='sigmoid', C=1.0, random_state=42),\n",
    "    'Neural Networks': MLPClassifier(hidden_layer_sizes=(100,), max_iter=500, random_state=42),\n",
    "    'Bootstrap & Feature Bagging': RandomForestClassifier(n_estimators=100, max_features='sqrt', random_state=42),\n",
    "    'AdaBoost': AdaBoostClassifier(n_estimators=100, random_state=42),\n",
    "    'Decision Tree': DecisionTreeClassifier(max_depth=None, random_state=42),\n",
    "    'Random Forests': RandomForestClassifier(n_estimators=100, random_state=42, max_depth=int(np.sqrt(X.shape[1]))),\n",
    "}\n",
    "\n",
    "results = {}\n",
    "kf = KFold(n_splits=5, shuffle=True, random_state=42) # Cross-validation\n",
    "\n",
    "for name, model in models.items():\n",
    "    scores = cross_val_score(model, X, y, cv=kf, scoring='accuracy')\n",
    "    results[name] = np.mean(scores)\n",
    "\n",
    "for method, score in results.items():\n",
    "    print(f\"{method}: {score}\")\n"
   ]
  }
 ],
 "metadata": {
  "kernelspec": {
   "display_name": ".venv",
   "language": "python",
   "name": "python3"
  },
  "language_info": {
   "codemirror_mode": {
    "name": "ipython",
    "version": 3
   },
   "file_extension": ".py",
   "mimetype": "text/x-python",
   "name": "python",
   "nbconvert_exporter": "python",
   "pygments_lexer": "ipython3",
   "version": "3.11.3"
  }
 },
 "nbformat": 4,
 "nbformat_minor": 2
}
